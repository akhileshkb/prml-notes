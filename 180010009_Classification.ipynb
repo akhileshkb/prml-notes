{
  "nbformat": 4,
  "nbformat_minor": 0,
  "metadata": {
    "colab": {
      "name": "180010009_Classification.ipynb",
      "provenance": [],
      "collapsed_sections": [
        "lzRAXAYsiuhp",
        "9poZ8N56Z94R",
        "Lb-RLgsnC23C",
        "GgonBFE8I2IL",
        "dOe8btABKSBO",
        "p8Zk66RiWuS5",
        "lzZC16m_2Dw5",
        "wfA70l6m2Rgl",
        "09Xcn_ng2KXr"
      ]
    },
    "kernelspec": {
      "name": "python3",
      "display_name": "Python 3"
    }
  },
  "cells": [
    {
      "cell_type": "markdown",
      "metadata": {
        "id": "VnlrpU7ghpw2"
      },
      "source": [
        " Classification:\n",
        "\n",
        " 1. Linear regression\n",
        " 2. Logistic regression\n",
        "\n",
        " 3. Support vector machine\n"
      ]
    },
    {
      "cell_type": "markdown",
      "metadata": {
        "id": "eRGPI27lR8Mf"
      },
      "source": [
        "# Linear regression\n",
        "\n",
        "1. Generate 1D data synthetically\n",
        "2. Take the earlier designed linear regression class\n",
        "3. Find the fitting line \n",
        "4. Taking 0.5 as threshold, see the classification    "
      ]
    },
    {
      "cell_type": "code",
      "metadata": {
        "id": "7c8soHbzhk2L",
        "outputId": "ec72d164-0065-43f3-ce5a-fab34f87a23f",
        "colab": {
          "base_uri": "https://localhost:8080/",
          "height": 282
        }
      },
      "source": [
        "import numpy as np\n",
        "import matplotlib.pyplot as plt\n",
        "\n",
        "# insert your code here\n",
        "y1 = np.zeros(100)\n",
        "y2 = np.ones(100)\n",
        "y = np.concatenate((y1,y2))\n",
        "x1 = np.linspace(0,6,100)#np.concatenate((np.linspace(0,6,100).reshape(100,1),np.zeros(100).reshape(100,1)),axis=1)\n",
        "x2 = np.linspace(7,13,100)#np.concatenate((np.linspace(7,13,100).reshape(100,1),np.ones(100).reshape(100,1)),axis=1)\n",
        "x = np.concatenate((x1,x2))\n",
        "plt.scatter(x,y)\n"
      ],
      "execution_count": null,
      "outputs": [
        {
          "output_type": "execute_result",
          "data": {
            "text/plain": [
              "<matplotlib.collections.PathCollection at 0x7f651d71f978>"
            ]
          },
          "metadata": {
            "tags": []
          },
          "execution_count": 40
        },
        {
          "output_type": "display_data",
          "data": {
            "image/png": "[encoded data removed]",
            "text/plain": [
              "<Figure size 432x288 with 1 Axes>"
            ]
          },
          "metadata": {
            "tags": [],
            "needs_background": "light"
          }
        }
      ]
    },
    {
      "cell_type": "markdown",
      "metadata": {
        "id": "nxli0Pr6LLcC"
      },
      "source": [
        "Defining linear regression class"
      ]
    },
    {
      "cell_type": "code",
      "metadata": {
        "id": "r_Ht9UfyVeJA"
      },
      "source": [
        "# linear regression class\n",
        "class lin_regression:\n",
        "  # Constructor\n",
        "  def __init__(self, name='reg'):\n",
        "    self.name = name  # Create an instance variable\n",
        "\n",
        "  def grad_update(self,w_old,lr,y,x):\n",
        "    w = w_old + 2*lr*(x @ (y - x.T @ w_old))/y.shape[0]\n",
        "    return w\n",
        "\n",
        "  def error(self,w,y,x):\n",
        "    return np.sum(np.square(y - x.T @ w))/y.shape[0]\n",
        "\n",
        "  def mat_inv(self,y,x_aug):\n",
        "    return np.linalg.pinv(x_aug @ x_aug.T) @ x_aug @ y\n",
        "    # by Gradien descent\n",
        "  def Regression_grad_des(self,x,y,lr):\n",
        "    err=[]\n",
        "    w_pred = np.random.rand(x.shape[0],1)\n",
        "    for i in range(1000):\n",
        "      err.append(self.error(w_pred,y,x))\n",
        "      w_pred = self.grad_update(w_pred,lr,y,x)\n",
        "    err = np.asarray(err)\n",
        "\n",
        "    return w_pred,err\n"
      ],
      "execution_count": 5,
      "outputs": []
    },
    {
      "cell_type": "markdown",
      "metadata": {
        "id": "hE8LPW0zyGZO"
      },
      "source": [
        "Data augmentation and optimal weight generation"
      ]
    },
    {
      "cell_type": "code",
      "metadata": {
        "id": "c_Aw3KP0DP7e",
        "outputId": "864b4d90-3dec-4406-f514-d73a8a25b870",
        "colab": {
          "base_uri": "https://localhost:8080/"
        }
      },
      "source": [
        "x=x[:,np.newaxis] \n",
        "x=x.T     # to make this in M x N format, where M is the dimension\n",
        "print(x.shape)\n",
        "x_aug=np.concatenate((np.ones((1,x.shape[1])), x),axis=0)\n",
        "print(x_aug.shape)\n",
        "\n",
        "y=y[:,np.newaxis]\n",
        "\n",
        "ln_reg=lin_regression()\n",
        "w_opt=ln_reg.mat_inv(y,x_aug)\n"
      ],
      "execution_count": null,
      "outputs": [
        {
          "output_type": "stream",
          "text": [
            "(1, 200)\n",
            "(2, 200)\n"
          ],
          "name": "stdout"
        }
      ]
    },
    {
      "cell_type": "code",
      "metadata": {
        "id": "PU-7XfmpmV0f",
        "outputId": "3416bfdd-c512-444a-b59f-fb239f9f865f",
        "colab": {
          "base_uri": "https://localhost:8080/"
        }
      },
      "source": [
        "w_opt"
      ],
      "execution_count": null,
      "outputs": [
        {
          "output_type": "execute_result",
          "data": {
            "text/plain": [
              "array([[-0.24294904],\n",
              "       [ 0.11429985]])"
            ]
          },
          "metadata": {
            "tags": []
          },
          "execution_count": 25
        }
      ]
    },
    {
      "cell_type": "markdown",
      "metadata": {
        "id": "KGYU-GL9Ns19"
      },
      "source": [
        "1. Optimal separating plane generation\n",
        "2. Classification (0.5 as threshold)\n"
      ]
    },
    {
      "cell_type": "code",
      "metadata": {
        "id": "jrCD1CW9HPQ6",
        "outputId": "4be1e064-9778-4aa1-c825-0fac3a6ae811",
        "colab": {
          "base_uri": "https://localhost:8080/",
          "height": 582
        }
      },
      "source": [
        "print(w_opt)\n",
        "lr=0.01\n",
        "w_predicted, error = ln_reg.Regression_grad_des(x_aug,y,lr)\n",
        "print(w_predicted)\n",
        "plt.plot(error[1:])\n",
        "plt.show()\n",
        "# print(x)\n",
        "x_1 = np.linspace(0,13,200)\n",
        "y_1 = w_predicted[0] + w_predicted[1]*x_1\n",
        "y_2 = [(1 if y_3>0.5 else 0) for y_3 in y_1]\n",
        "plt.scatter(x.T,y,c=y_2[::-1],cmap='autumn')\n",
        "plt.plot(x_1,y_1,'b')\n",
        "plt.show()\n",
        "# insert your code here\n"
      ],
      "execution_count": null,
      "outputs": [
        {
          "output_type": "stream",
          "text": [
            "[[-0.24294904]\n",
            " [ 0.11429985]]\n",
            "[[-0.23851624]\n",
            " [ 0.11379699]]\n"
          ],
          "name": "stdout"
        },
        {
          "output_type": "display_data",
          "data": {
            "image/png": "[encoded data removed]",
            "text/plain": [
              "<Figure size 432x288 with 1 Axes>"
            ]
          },
          "metadata": {
            "tags": [],
            "needs_background": "light"
          }
        },
        {
          "output_type": "display_data",
          "data": {
            "image/png": "[encoded data removed]",
            "text/plain": [
              "<Figure size 432x288 with 1 Axes>"
            ]
          },
          "metadata": {
            "tags": [],
            "needs_background": "light"
          }
        }
      ]
    },
    {
      "cell_type": "markdown",
      "metadata": {
        "id": "ubVGPFPBr5vg"
      },
      "source": [
        "## Draw back of linear regression based classification\n",
        "1. Generate data (have outlairs noise)\n",
        "2. Find the fitting line.\n",
        "3. Using 0.5 as threshold, see the classification\n",
        "4. using matrix inversion (home work)\n"
      ]
    },
    {
      "cell_type": "code",
      "metadata": {
        "id": "Y2PNLjhNzPW7",
        "outputId": "2e060ca8-afe2-44e8-d0ad-eed56a0ebf47",
        "colab": {
          "base_uri": "https://localhost:8080/",
          "height": 282
        }
      },
      "source": [
        "import numpy as np\n",
        "import matplotlib.pyplot as plt\n",
        "\n",
        "# insert your code here\n",
        "y1 = np.zeros(100)\n",
        "y2 = np.ones(100)\n",
        "y3 = np.ones(100)\n",
        "y = np.concatenate((y1,y2,y3))\n",
        "x1 = np.linspace(0,6,100)#np.concatenate((np.linspace(0,6,100).reshape(100,1),np.zeros(100).reshape(100,1)),axis=1)\n",
        "x2 = np.linspace(7,13,100)#np.concatenate((np.linspace(7,13,100).reshape(100,1),np.ones(100).reshape(100,1)),axis=1)\n",
        "x3 = np.linspace(35,38,100)\n",
        "x = np.concatenate((x1,x2,x3))\n",
        "plt.scatter(x,y)"
      ],
      "execution_count": null,
      "outputs": [
        {
          "output_type": "execute_result",
          "data": {
            "text/plain": [
              "<matplotlib.collections.PathCollection at 0x7f651da1e630>"
            ]
          },
          "metadata": {
            "tags": []
          },
          "execution_count": 50
        },
        {
          "output_type": "display_data",
          "data": {
            "image/png": "[encoded data removed]",
            "text/plain": [
              "<Figure size 432x288 with 1 Axes>"
            ]
          },
          "metadata": {
            "tags": [],
            "needs_background": "light"
          }
        }
      ]
    },
    {
      "cell_type": "markdown",
      "metadata": {
        "id": "C7uM2mMgOL2r"
      },
      "source": [
        "Augment data"
      ]
    },
    {
      "cell_type": "code",
      "metadata": {
        "id": "r5wnJ-7Ga-z1",
        "outputId": "c6b68ccc-41d1-466b-f845-5c8d9c7ac187",
        "colab": {
          "base_uri": "https://localhost:8080/"
        }
      },
      "source": [
        "# Augment data\n",
        "\n",
        "x=x[:,np.newaxis]\n",
        "y=y[:,np.newaxis]\n",
        "\n",
        "x_aug=np.concatenate((np.ones((1,x.shape[0])), x.T),axis=0)\n",
        "print(x_aug.shape)\n",
        "\n"
      ],
      "execution_count": null,
      "outputs": [
        {
          "output_type": "stream",
          "text": [
            "(2, 300)\n"
          ],
          "name": "stdout"
        }
      ]
    },
    {
      "cell_type": "markdown",
      "metadata": {
        "id": "3rvRLZbROQNZ"
      },
      "source": [
        "1. find optimal weight\n",
        "2. perform classification (0.5 as threshold)"
      ]
    },
    {
      "cell_type": "code",
      "metadata": {
        "id": "xMnAjsrV2qRX",
        "outputId": "6c6768e0-3b99-4375-914d-a3de8d0d6e28",
        "colab": {
          "base_uri": "https://localhost:8080/"
        }
      },
      "source": [
        "print(x.shape,y.shape)"
      ],
      "execution_count": null,
      "outputs": [
        {
          "output_type": "stream",
          "text": [
            "(300, 1) (300, 1)\n"
          ],
          "name": "stdout"
        }
      ]
    },
    {
      "cell_type": "code",
      "metadata": {
        "id": "T7GGW3bbdb8I",
        "outputId": "1579f2b3-af74-4b08-f198-fe06e032c32c",
        "colab": {
          "base_uri": "https://localhost:8080/",
          "height": 300
        }
      },
      "source": [
        "lr=0.1\n",
        "lin_reg=lin_regression()\n",
        "# insert your code here\n",
        "# w_predicted, error = ln_reg.Regression_grad_des(x_aug,y,lr)\n",
        "w_opt = ln_reg.mat_inv(y, x_aug)\n",
        "print(w_opt)\n",
        "# w_predicted, error = ln_reg.Regression_grad_des(x_aug,y,lr)\n",
        "# print(w_predicted)\n",
        "x_1 = np.linspace(0,38,300)\n",
        "y_1 = w_opt[0] + w_opt[1]*x_1\n",
        "y_2 = [(1 if y_3>0.5 else 0) for y_3 in y_1]\n",
        "plt.scatter(x,y,c=y_2[::-1],cmap='autumn')\n",
        "plt.plot(x_1,y_1,'b')\n",
        "plt.show()"
      ],
      "execution_count": null,
      "outputs": [
        {
          "output_type": "stream",
          "text": [
            "[[0.31387159]\n",
            " [0.02138152]]\n"
          ],
          "name": "stdout"
        },
        {
          "output_type": "display_data",
          "data": {
            "image/png": "[encoded data removed]",
            "text/plain": [
              "<Figure size 432x288 with 1 Axes>"
            ]
          },
          "metadata": {
            "tags": [],
            "needs_background": "light"
          }
        }
      ]
    },
    {
      "cell_type": "markdown",
      "metadata": {
        "id": "praLrLBjM2EW"
      },
      "source": [
        "# logistic regression\n",
        "1. Error surface (logistic loss vs. MSE)\n",
        "2. Solve the outlair issue\n",
        "3. Circularly separable data classification\n",
        "4. Multiclass classification"
      ]
    },
    {
      "cell_type": "markdown",
      "metadata": {
        "id": "mdHTm3EhDYdr"
      },
      "source": [
        "## Error surface (logistic loss vs. MSE)"
      ]
    },
    {
      "cell_type": "code",
      "metadata": {
        "id": "cU3DV5bkDX8c",
        "outputId": "29bf6043-10fb-4b40-9a91-3ce4f5568d8b",
        "colab": {
          "base_uri": "https://localhost:8080/",
          "height": 282
        }
      },
      "source": [
        "import numpy as np\n",
        "import matplotlib.pyplot as plt\n",
        "\n",
        "\n",
        "x=np.linspace(-5,5,25)\n",
        "y=np.zeros(x.shape)\n",
        "y[np.where(x>0.7314)]=1\n",
        "\n",
        "plt.plot(x,y,'.')"
      ],
      "execution_count": null,
      "outputs": [
        {
          "output_type": "execute_result",
          "data": {
            "text/plain": [
              "[<matplotlib.lines.Line2D at 0x7f651d4146a0>]"
            ]
          },
          "metadata": {
            "tags": []
          },
          "execution_count": 91
        },
        {
          "output_type": "display_data",
          "data": {
            "image/png": "[encoded data removed]",
            "text/plain": [
              "<Figure size 432x288 with 1 Axes>"
            ]
          },
          "metadata": {
            "tags": [],
            "needs_background": "light"
          }
        }
      ]
    },
    {
      "cell_type": "markdown",
      "metadata": {
        "id": "tIdvMRuDLOGM"
      },
      "source": [
        "1. MSE=$\\frac{1}{2N}\\sum_{i=1}^{N}(y^{p}_{i}-y_{i})^2$, where $y^{p}=\\frac{1}{1+e^{-w^{T}x}}$\n",
        "2. Logistic loss=$-\\frac{1}{N}\\sum_{i=1}^{N}y_{i}log(y^{p}_{i})+(1-y_{i})log(1-y_{i}^{p})$"
      ]
    },
    {
      "cell_type": "code",
      "metadata": {
        "id": "JDzS5KMHGIlK"
      },
      "source": [
        "# search space (only w1 is searched, where as w0 is fixed)\n",
        "w1_in=10/(x[1]-x[0])\n",
        "w0=-w1_in*0.7314\n",
        "w1=np.linspace(-w1_in,4*w1_in,100)\n",
        "\n",
        "\n",
        "cost_fn_mse=[]\n",
        "cost_fn_logis=[]\n",
        "for i in range(w1.shape[0]):\n",
        " # insert your code here\n",
        "  y_pred = 1/(1+np.exp(-w1[i]*x-w0))\n",
        "  cost_mse = (1/(2*x.shape[0]))*np.sum(np.square(y_pred-y))\n",
        "  cost_fn_mse.append(cost_mse)\n",
        "  cost_logis = 0\n",
        "  for yi,yip in zip(y,y_pred):\n",
        "    # print(yi,yip)\n",
        "    if yi == 0 :\n",
        "      if (1-yip)<0.01:\n",
        "        cost_logis += 5\n",
        "      else :\n",
        "        cost_logis += np.log(1-yip)\n",
        "    if yi == 1 :\n",
        "      if yip<0.01:\n",
        "        cost_logis += 5\n",
        "      else:\n",
        "        cost_logis += np.log(yip)\n",
        "    # cost_logis += np.log(yip)\n",
        "  cost_logis /= (-len(y))\n",
        "  cost_fn_logis.append(cost_logis)\n",
        "  # break\n"
      ],
      "execution_count": null,
      "outputs": []
    },
    {
      "cell_type": "code",
      "metadata": {
        "id": "aq153-EX-LE_",
        "outputId": "78642aba-53b6-4a96-a89a-96140510b901",
        "colab": {
          "base_uri": "https://localhost:8080/",
          "height": 282
        }
      },
      "source": [
        "plt.plot(cost_fn_logis)"
      ],
      "execution_count": null,
      "outputs": [
        {
          "output_type": "execute_result",
          "data": {
            "text/plain": [
              "[<matplotlib.lines.Line2D at 0x7f651d331cc0>]"
            ]
          },
          "metadata": {
            "tags": []
          },
          "execution_count": 93
        },
        {
          "output_type": "display_data",
          "data": {
            "image/png": "[encoded data removed]",
            "text/plain": [
              "<Figure size 432x288 with 1 Axes>"
            ]
          },
          "metadata": {
            "tags": [],
            "needs_background": "light"
          }
        }
      ]
    },
    {
      "cell_type": "code",
      "metadata": {
        "id": "1QdaVsP1Js_x",
        "outputId": "35710b24-2504-417f-8169-d31f84b2f5fb",
        "colab": {
          "base_uri": "https://localhost:8080/",
          "height": 317
        }
      },
      "source": [
        "# ploting of error surface\n",
        "plt.figure()\n",
        "plt.plot(w1,np.log(cost_fn_mse))\n",
        "plt.plot(w1,np.log(cost_fn_logis))"
      ],
      "execution_count": null,
      "outputs": [
        {
          "output_type": "stream",
          "text": [
            "/usr/local/lib/python3.6/dist-packages/ipykernel_launcher.py:4: RuntimeWarning: invalid value encountered in log\n",
            "  after removing the cwd from sys.path.\n"
          ],
          "name": "stderr"
        },
        {
          "output_type": "execute_result",
          "data": {
            "text/plain": [
              "[<matplotlib.lines.Line2D at 0x7f651d2e32b0>]"
            ]
          },
          "metadata": {
            "tags": []
          },
          "execution_count": 94
        },
        {
          "output_type": "display_data",
          "data": {
            "image/png": "[encoded data removed]",
            "text/plain": [
              "<Figure size 432x288 with 1 Axes>"
            ]
          },
          "metadata": {
            "tags": [],
            "needs_background": "light"
          }
        }
      ]
    },
    {
      "cell_type": "markdown",
      "metadata": {
        "id": "lzRAXAYsiuhp"
      },
      "source": [
        "## Solve the outlier issue\n"
      ]
    },
    {
      "cell_type": "code",
      "metadata": {
        "id": "_CGKgXFTh5B-",
        "outputId": "3565d4b6-5952-49f8-f1f5-dda396eb0437",
        "colab": {
          "base_uri": "https://localhost:8080/",
          "height": 282
        }
      },
      "source": [
        "# logistic regression\n",
        "import numpy as np\n",
        "import matplotlib.pyplot as plt\n",
        "\n",
        "# insert your code here\n",
        "y1 = np.zeros(100)\n",
        "y2 = np.ones(100)\n",
        "y3 = np.ones(100)\n",
        "y = np.concatenate((y1,y2,y3))\n",
        "x1 = np.linspace(0,6,100)#np.concatenate((np.linspace(0,6,100).reshape(100,1),np.zeros(100).reshape(100,1)),axis=1)\n",
        "x2 = np.linspace(7,13,100)#np.concatenate((np.linspace(7,13,100).reshape(100,1),np.ones(100).reshape(100,1)),axis=1)\n",
        "x3 = np.linspace(35,38,100)\n",
        "x = np.concatenate((x1,x2,x3))\n",
        "# plt.scatter(x,y)\n",
        "\n",
        "plt.figure()\n",
        "plt.plot(x,y,'.')"
      ],
      "execution_count": null,
      "outputs": [
        {
          "output_type": "execute_result",
          "data": {
            "text/plain": [
              "[<matplotlib.lines.Line2D at 0x7fb9687d02b0>]"
            ]
          },
          "metadata": {
            "tags": []
          },
          "execution_count": 70
        },
        {
          "output_type": "display_data",
          "data": {
            "image/png": "[encoded data removed]",
            "text/plain": [
              "<Figure size 432x288 with 1 Axes>"
            ]
          },
          "metadata": {
            "tags": [],
            "needs_background": "light"
          }
        }
      ]
    },
    {
      "cell_type": "code",
      "metadata": {
        "id": "PE5x893HD4Km"
      },
      "source": [
        "class logis_regression:\n",
        "  # Constructor\n",
        "  def __init__(self, name='reg'):\n",
        "    self.name = name  # Create an instance variable\n",
        "  \n",
        "  def logis(self,x,w_old):\n",
        "    # print(w_old.shape,x.shape)\n",
        "    op = 1/(1 + np.exp(-x.T @ w_old))\n",
        "    # print(op.shape)\n",
        "    return op\n",
        "\n",
        "  def grad_update(self,w_old,lr,y,x):\n",
        "    # print(x.shape,y.shape,self.logis(x,w_old).shape)\n",
        "    w = w_old + 2*lr*(x @ (y.reshape(y.shape[0],1) - self.logis(x,w_old)))/y.shape[0]\n",
        "    # print(w_old.shape,w.shape,)\n",
        "    return w\n",
        "\n",
        "  def error(self,w,y,x):\n",
        "    # print(x.shape,y.shape,w.shape)\n",
        "    return -np.average(y*np.log(self.logis(x,w)) + (1-y)*np.log(1-self.logis(x,w)))\n",
        "\n",
        "    # by Gradien descent\n",
        "  def Regression_grad_des(self,x,y,lr):\n",
        "    err=[]\n",
        "    w_pred = np.random.rand(x.shape[0],1)\n",
        "    # print(w_pred.shape)\n",
        "    error1 = self.error(w_pred,y,x)\n",
        "    for i in range(1000):\n",
        "      w_pred = self.grad_update(w_pred,lr,y,x)\n",
        "      error_new = self.error(w_pred,y,x)\n",
        "      err.append(error_new)\n",
        "      dev = error1 - error_new\n",
        "      if dev<=10**(-20):\n",
        "        break\n",
        "      error1 = error_new\n",
        "    err = np.array(err)\n",
        "    # print(w_pred.shape)\n",
        "    return w_pred,err"
      ],
      "execution_count": 7,
      "outputs": []
    },
    {
      "cell_type": "code",
      "metadata": {
        "id": "8pRanc1ejLWO",
        "outputId": "ce833eeb-9b4a-4cc5-b61b-eda8d248edde",
        "colab": {
          "base_uri": "https://localhost:8080/"
        }
      },
      "source": [
        "# augmentation and data formating\n",
        "\n",
        "x=x[:,np.newaxis]\n",
        "y=y[:,np.newaxis]\n",
        "print(x.shape)\n",
        "x_aug=np.concatenate((np.ones((1,x.shape[0])), x.T),axis=0)\n",
        "print(x_aug.shape)\n"
      ],
      "execution_count": null,
      "outputs": [
        {
          "output_type": "stream",
          "text": [
            "(300, 1)\n",
            "(2, 300)\n"
          ],
          "name": "stdout"
        }
      ]
    },
    {
      "cell_type": "code",
      "metadata": {
        "id": "lhsGmCN5n3wE",
        "outputId": "554ad8ae-bc91-49b2-e862-70c785c1115e",
        "colab": {
          "base_uri": "https://localhost:8080/",
          "height": 300
        }
      },
      "source": [
        "\n",
        "\n",
        "\n",
        "log_reg=logis_regression()\n",
        "w_pred,err=log_reg.Regression_grad_des(x_aug,y,0.1)\n",
        "print(w_pred.shape)\n",
        "\n",
        "plt.plot(err)"
      ],
      "execution_count": null,
      "outputs": [
        {
          "output_type": "stream",
          "text": [
            "(2, 1)\n"
          ],
          "name": "stdout"
        },
        {
          "output_type": "execute_result",
          "data": {
            "text/plain": [
              "[<matplotlib.lines.Line2D at 0x7fb968719f60>]"
            ]
          },
          "metadata": {
            "tags": []
          },
          "execution_count": 72
        },
        {
          "output_type": "display_data",
          "data": {
            "image/png": "[encoded data removed]",
            "text/plain": [
              "<Figure size 432x288 with 1 Axes>"
            ]
          },
          "metadata": {
            "tags": [],
            "needs_background": "light"
          }
        }
      ]
    },
    {
      "cell_type": "code",
      "metadata": {
        "id": "rFSKDvTnjFUm",
        "outputId": "a53ca363-7cde-4299-84ce-587f5f8d4459",
        "colab": {
          "base_uri": "https://localhost:8080/"
        }
      },
      "source": [
        "w_pred.shape"
      ],
      "execution_count": null,
      "outputs": [
        {
          "output_type": "execute_result",
          "data": {
            "text/plain": [
              "(2, 1)"
            ]
          },
          "metadata": {
            "tags": []
          },
          "execution_count": 153
        }
      ]
    },
    {
      "cell_type": "code",
      "metadata": {
        "id": "8xWcdoE5whVm",
        "outputId": "7a20136d-d1c8-4647-a8bb-b0545fb1d2cf",
        "colab": {
          "base_uri": "https://localhost:8080/",
          "height": 282
        }
      },
      "source": [
        "# output computation\n",
        "# insert your code here\n",
        "\n",
        "# def sigmoid(w,x):\n",
        "#   return 1/(1 + np.exp(x@))\n",
        "\n",
        "def sigmoid(w, x):\n",
        "  return 1/(1+np.exp(-w[1]*x - w[0]))\n",
        "# insert your code here\n",
        "x_gen = np.linspace(0,40,300)\n",
        "y_1=[]\n",
        "for i in x_gen:\n",
        "  y_1.append(sigmoid(w_pred,i))\n",
        "y_1 = np.array(y_1)\n",
        "c = []\n",
        "for xi in x:\n",
        "  if sigmoid(w_pred,xi)>0.5:\n",
        "    c.append(1)\n",
        "  else:\n",
        "    c.append(0)\n",
        "\n",
        "plt.scatter(x,y,c=c)\n",
        "plt.plot(x_gen,y_1)\n",
        "# plt.plot(x0,np.zeros((x0).shape),'o',color='y')\n",
        "# plt.plot(x1,np.ones((x1).shape),'x',color='r')"
      ],
      "execution_count": null,
      "outputs": [
        {
          "output_type": "execute_result",
          "data": {
            "text/plain": [
              "[<matplotlib.lines.Line2D at 0x7fb9686cae48>]"
            ]
          },
          "metadata": {
            "tags": []
          },
          "execution_count": 73
        },
        {
          "output_type": "display_data",
          "data": {
            "image/png": "[encoded data removed]",
            "text/plain": [
              "<Figure size 432x288 with 1 Axes>"
            ]
          },
          "metadata": {
            "tags": [],
            "needs_background": "light"
          }
        }
      ]
    },
    {
      "cell_type": "markdown",
      "metadata": {
        "id": "9poZ8N56Z94R"
      },
      "source": [
        "## Classification of circularly separated data using logistic regression\n",
        "\n"
      ]
    },
    {
      "cell_type": "code",
      "metadata": {
        "id": "BB9LN7-QZ9Lb",
        "outputId": "c44dc81c-5fd2-4280-8882-fb112daea200",
        "colab": {
          "base_uri": "https://localhost:8080/",
          "height": 612
        }
      },
      "source": [
        "# Generating circularly separated data\n",
        "import numpy as np\n",
        "import matplotlib.pyplot as plt\n",
        "\n",
        "\n",
        "x1=np.linspace(-3,3,20)\n",
        "x2=np.linspace(-3,3,20)\n",
        "\n",
        "x11,x22=np.meshgrid(x1,x2)\n",
        "plt.plot(x11,x22,'.')\n"
      ],
      "execution_count": null,
      "outputs": [
        {
          "output_type": "execute_result",
          "data": {
            "text/plain": [
              "[<matplotlib.lines.Line2D at 0x7fb974c76898>,\n",
              " <matplotlib.lines.Line2D at 0x7fb974c769e8>,\n",
              " <matplotlib.lines.Line2D at 0x7fb974c76b00>,\n",
              " <matplotlib.lines.Line2D at 0x7fb974c76c50>,\n",
              " <matplotlib.lines.Line2D at 0x7fb974c76da0>,\n",
              " <matplotlib.lines.Line2D at 0x7fb974c76ef0>,\n",
              " <matplotlib.lines.Line2D at 0x7fb974c88080>,\n",
              " <matplotlib.lines.Line2D at 0x7fb974c881d0>,\n",
              " <matplotlib.lines.Line2D at 0x7fb974c88320>,\n",
              " <matplotlib.lines.Line2D at 0x7fb974c88470>,\n",
              " <matplotlib.lines.Line2D at 0x7fb974cbad68>,\n",
              " <matplotlib.lines.Line2D at 0x7fb974c886d8>,\n",
              " <matplotlib.lines.Line2D at 0x7fb974c88828>,\n",
              " <matplotlib.lines.Line2D at 0x7fb974c88978>,\n",
              " <matplotlib.lines.Line2D at 0x7fb974c88ac8>,\n",
              " <matplotlib.lines.Line2D at 0x7fb974c88c18>,\n",
              " <matplotlib.lines.Line2D at 0x7fb974c88d68>,\n",
              " <matplotlib.lines.Line2D at 0x7fb974c88eb8>,\n",
              " <matplotlib.lines.Line2D at 0x7fb974c0c048>,\n",
              " <matplotlib.lines.Line2D at 0x7fb974c0c198>]"
            ]
          },
          "metadata": {
            "tags": []
          },
          "execution_count": 1
        },
        {
          "output_type": "display_data",
          "data": {
            "image/png": "[encoded data removed]",
            "text/plain": [
              "<Figure size 432x288 with 1 Axes>"
            ]
          },
          "metadata": {
            "tags": [],
            "needs_background": "light"
          }
        }
      ]
    },
    {
      "cell_type": "markdown",
      "metadata": {
        "id": "UH3gwRKNbf34"
      },
      "source": [
        "1. Circularly separated data generation"
      ]
    },
    {
      "cell_type": "code",
      "metadata": {
        "id": "EP4mon7Rc80v",
        "outputId": "93b2705a-bb08-44fb-8b29-92eb9bbaff36",
        "colab": {
          "base_uri": "https://localhost:8080/",
          "height": 352
        }
      },
      "source": [
        "x1=x11.flatten()\n",
        "x2=x22.flatten()\n",
        "\n",
        "x=np.concatenate((x1[:,np.newaxis],x2[:,np.newaxis]),axis=1) # to make matrix format\n",
        "print(x.shape)\n",
        "\n",
        "aind=np.where((x[:,0]**(2)+x[:,1]**(2))<=0.9)\n",
        "\n",
        "bind=np.where((x[:,0]**(2)+x[:,1]**(2))>=2.2)\n",
        "\n",
        "x1=x[aind[0],:]\n",
        "x2=x[bind[0],:]\n",
        "print(x1.shape)\n",
        "print(x2.shape)\n",
        "x=np.concatenate((x1,x2))\n",
        "print(x.shape)\n",
        "\n",
        "plt.plot(x[:,0],x[:,1],'.')"
      ],
      "execution_count": null,
      "outputs": [
        {
          "output_type": "stream",
          "text": [
            "(400, 2)\n",
            "(32, 2)\n",
            "(332, 2)\n",
            "(364, 2)\n"
          ],
          "name": "stdout"
        },
        {
          "output_type": "execute_result",
          "data": {
            "text/plain": [
              "[<matplotlib.lines.Line2D at 0x7fb974702eb8>]"
            ]
          },
          "metadata": {
            "tags": []
          },
          "execution_count": 2
        },
        {
          "output_type": "display_data",
          "data": {
            "image/png": "[encoded data removed]",
            "text/plain": [
              "<Figure size 432x288 with 1 Axes>"
            ]
          },
          "metadata": {
            "tags": [],
            "needs_background": "light"
          }
        }
      ]
    },
    {
      "cell_type": "markdown",
      "metadata": {
        "id": "ZBZR6c0JcnDm"
      },
      "source": [
        "As in case of circularly separated data, the boundary is nonlinear, so squred feature is taken."
      ]
    },
    {
      "cell_type": "code",
      "metadata": {
        "id": "OvI2_KIfhKsS",
        "outputId": "c2ca4519-3eb7-4b68-df44-9dcd3caf8849",
        "colab": {
          "base_uri": "https://localhost:8080/",
          "height": 421
        }
      },
      "source": [
        "# perform logistic regression\n",
        "\n",
        "y1=np.zeros((x1.shape[0]))\n",
        "y2=np.ones((x2.shape[0]))\n",
        "y=np.concatenate((y1,y2))\n",
        "\n",
        "x_aug=np.concatenate((np.ones((x.shape[0],1)), x[:,0].reshape(364,1), x[:,1].reshape(364,1), (x[:,0]*x[:,0]).reshape(364,1), (x[:,1]*x[:,1]).reshape(364,1)), axis=1)    # squring to learn circular separation\n",
        "print(x_aug.shape)\n",
        "\n",
        "log_reg=logis_regression()\n",
        "w_pred,err=log_reg.Regression_grad_des(x_aug.T,y[:,np.newaxis],0.3)\n",
        "print(w_pred)\n",
        "plt.plot(err)\n",
        "\n"
      ],
      "execution_count": null,
      "outputs": [
        {
          "output_type": "stream",
          "text": [
            "(364, 5)\n",
            "[[-4.54922825e+00]\n",
            " [ 5.79240483e-04]\n",
            " [ 1.28298169e-04]\n",
            " [ 3.14694052e+00]\n",
            " [ 3.14658725e+00]]\n"
          ],
          "name": "stdout"
        },
        {
          "output_type": "stream",
          "text": [
            "/usr/local/lib/python3.6/dist-packages/ipykernel_launcher.py:19: RuntimeWarning: divide by zero encountered in log\n",
            "/usr/local/lib/python3.6/dist-packages/ipykernel_launcher.py:19: RuntimeWarning: invalid value encountered in multiply\n"
          ],
          "name": "stderr"
        },
        {
          "output_type": "execute_result",
          "data": {
            "text/plain": [
              "[<matplotlib.lines.Line2D at 0x7fb9745a5da0>]"
            ]
          },
          "metadata": {
            "tags": []
          },
          "execution_count": 7
        },
        {
          "output_type": "display_data",
          "data": {
            "image/png": "[encoded data removed]",
            "text/plain": [
              "<Figure size 432x288 with 1 Axes>"
            ]
          },
          "metadata": {
            "tags": [],
            "needs_background": "light"
          }
        }
      ]
    },
    {
      "cell_type": "markdown",
      "metadata": {
        "id": "aPZH3-2FdCMB"
      },
      "source": [
        "Plot classification using 0.5 as threshold"
      ]
    },
    {
      "cell_type": "code",
      "metadata": {
        "id": "hZ1BGlZ4fHOV",
        "outputId": "c2d4da07-5466-4df6-b0e0-c6bae04dc15f",
        "colab": {
          "base_uri": "https://localhost:8080/",
          "height": 282
        }
      },
      "source": [
        "def sigmoid(w, x):\n",
        "  return 1/(1+np.exp(-x @ w))\n",
        "\n",
        "y_pred=sigmoid(w_pred, x_aug)\n",
        "\n",
        "c_pred = []\n",
        "for yi in y_pred:\n",
        "  if yi > 0.5:\n",
        "    c_pred.append(1)\n",
        "  else:\n",
        "    c_pred.append(0)\n",
        "\n",
        "plt.scatter(x[:,0],x[:,1],c=c_pred,marker='x',cmap='autumn')"
      ],
      "execution_count": null,
      "outputs": [
        {
          "output_type": "execute_result",
          "data": {
            "text/plain": [
              "<matplotlib.collections.PathCollection at 0x7fb9743a56a0>"
            ]
          },
          "metadata": {
            "tags": []
          },
          "execution_count": 11
        },
        {
          "output_type": "display_data",
          "data": {
            "image/png": "[encoded data removed]",
            "text/plain": [
              "<Figure size 432x288 with 1 Axes>"
            ]
          },
          "metadata": {
            "tags": [],
            "needs_background": "light"
          }
        }
      ]
    },
    {
      "cell_type": "code",
      "metadata": {
        "id": "3b65To6rtIGN",
        "outputId": "bb3539a3-3e77-42b1-cfc6-a4f1529180f3",
        "colab": {
          "base_uri": "https://localhost:8080/"
        }
      },
      "source": [
        "y_pred=log_reg.logis(x_aug,w_pred)\n",
        "\n",
        "# insert your code here\n",
        "\n",
        "x00=x[ind1,:]\n",
        "x11=x[ind2,:]\n",
        "\n",
        "plt.figure()\n",
        "plt.plot(x00[:,0],x00[:,1],'x',color='y')\n",
        "plt.plot(x11[:,0],x11[:,1],'o',color='r')"
      ],
      "execution_count": null,
      "outputs": [
        {
          "output_type": "execute_result",
          "data": {
            "text/plain": [
              "[<matplotlib.lines.Line2D at 0x7fbb164ad358>]"
            ]
          },
          "metadata": {
            "tags": []
          },
          "execution_count": 47
        },
        {
          "output_type": "display_data",
          "data": {
            "image/png": "[encoded data removed]",
            "text/plain": [
              "<Figure size 432x288 with 1 Axes>"
            ]
          },
          "metadata": {
            "tags": [],
            "needs_background": "light"
          }
        }
      ]
    },
    {
      "cell_type": "markdown",
      "metadata": {
        "id": "Lb-RLgsnC23C"
      },
      "source": [
        "## Multiclass logistic regression\n",
        "\n",
        "1. Generate 1D data with 3 classes\n"
      ]
    },
    {
      "cell_type": "markdown",
      "metadata": {
        "id": "GgonBFE8I2IL"
      },
      "source": [
        "### One vs rest classification\n",
        "\n",
        "1. lets take polynomial of order 2 (by seeing the data distribution)"
      ]
    },
    {
      "cell_type": "code",
      "metadata": {
        "id": "AcyM3i2N673z",
        "outputId": "27896beb-138f-4bf3-92a8-dc79d4e392c4",
        "colab": {
          "base_uri": "https://localhost:8080/",
          "height": 300
        }
      },
      "source": [
        "import numpy as np\n",
        "import matplotlib.pyplot as plt\n",
        "\n",
        "x1=np.linspace(0,0.6,100)\n",
        "x2=np.linspace(1.1,2.7,100)\n",
        "x3=np.linspace(3.5,3.8,100)\n",
        "\n",
        "x=np.concatenate((x1,x2,x3))\n",
        "print(x.shape)\n",
        "\n",
        "y1=np.zeros(x1.shape)\n",
        "y2=np.ones(x2.shape)\n",
        "y3=np.tile([2],x3.shape)\n",
        "\n",
        "y=np.concatenate((y1,y2,y3))\n",
        "\n",
        "plt.figure()\n",
        "plt.plot(x,y,'.')\n"
      ],
      "execution_count": 1,
      "outputs": [
        {
          "output_type": "stream",
          "text": [
            "(300,)\n"
          ],
          "name": "stdout"
        },
        {
          "output_type": "execute_result",
          "data": {
            "text/plain": [
              "[<matplotlib.lines.Line2D at 0x7f771992e438>]"
            ]
          },
          "metadata": {
            "tags": []
          },
          "execution_count": 1
        },
        {
          "output_type": "display_data",
          "data": {
            "image/png": "[encoded data removed]",
            "text/plain": [
              "<Figure size 432x288 with 1 Axes>"
            ]
          },
          "metadata": {
            "tags": [],
            "needs_background": "light"
          }
        }
      ]
    },
    {
      "cell_type": "code",
      "metadata": {
        "id": "wBzA2n2eI1Oe"
      },
      "source": [
        "def data_transform(X,degree): \n",
        "  X_new=[]      \n",
        "  for i in range(degree +1):\n",
        "    X_new.append(X**i)              \n",
        "  X_new = np.concatenate(X_new)  \n",
        "  return X_new"
      ],
      "execution_count": 2,
      "outputs": []
    },
    {
      "cell_type": "code",
      "metadata": {
        "id": "EIO8_Rnrngkt",
        "outputId": "6bbc1b8d-34f8-4a88-f0df-a49b10c9b89b",
        "colab": {
          "base_uri": "https://localhost:8080/"
        }
      },
      "source": [
        "x_aug=data_transform(x[np.newaxis,:],2)\n",
        "print(x_aug.shape)"
      ],
      "execution_count": 3,
      "outputs": [
        {
          "output_type": "stream",
          "text": [
            "(3, 300)\n"
          ],
          "name": "stdout"
        }
      ]
    },
    {
      "cell_type": "code",
      "metadata": {
        "id": "p6eZLYPsrEVB",
        "outputId": "f3ac1cb3-285d-40cb-ba94-4208078b6ea6",
        "colab": {
          "base_uri": "https://localhost:8080/",
          "height": 300
        }
      },
      "source": [
        "print(x[np.newaxis,:].shape,x.shape)\n",
        "plt.plot(x,y,'.')"
      ],
      "execution_count": null,
      "outputs": [
        {
          "output_type": "stream",
          "text": [
            "(1, 300) (300,)\n"
          ],
          "name": "stdout"
        },
        {
          "output_type": "execute_result",
          "data": {
            "text/plain": [
              "[<matplotlib.lines.Line2D at 0x7fb968b0ab00>]"
            ]
          },
          "metadata": {
            "tags": []
          },
          "execution_count": 59
        },
        {
          "output_type": "display_data",
          "data": {
            "image/png": "[encoded data removed]",
            "text/plain": [
              "<Figure size 432x288 with 1 Axes>"
            ]
          },
          "metadata": {
            "tags": [],
            "needs_background": "light"
          }
        }
      ]
    },
    {
      "cell_type": "code",
      "metadata": {
        "id": "3MPgINWrup_m",
        "outputId": "ecc7e867-7d66-4a0d-a749-603a148dd786",
        "colab": {
          "base_uri": "https://localhost:8080/",
          "height": 582
        }
      },
      "source": [
        "# # plot for classification\n",
        "# def plot_op(x,y_pred):\n",
        "#   # insert your code here\n",
        "\n",
        "#   x0=x[ind0,:]\n",
        "#   x1=x[ind1,:]\n",
        "\n",
        "\n",
        "#   plt.plot(x0,np.zeros((x0).shape),'o',color='y')\n",
        "#   plt.plot(x1,np.ones((x1).shape),'x',color='r')\n",
        "# take class 1 as '0' and other to '1'\n",
        "# insert your code here\n",
        "\n",
        "y1_mod = y.copy()\n",
        "\n",
        "for temp in range(y.shape[0]):\n",
        "  if y1_mod[temp] == 0:\n",
        "    y1_mod[temp] = 0\n",
        "  else:\n",
        "    y1_mod[temp] = 1\n",
        "\n",
        "\n",
        "log_reg=logis_regression()\n",
        "w1_pred,err=log_reg.Regression_grad_des(x_aug,y1_mod,0.01)\n",
        "\n",
        "\n",
        "plt.plot(err)\n",
        "print(w1_pred)\n",
        "\n",
        "\n",
        "# ploting\n",
        "plt.figure()\n",
        "plt.plot(x,y1_mod,'.')\n",
        "x_1 = np.linspace(0,3.8,100)\n",
        "x_11 = data_transform(x_1[np.newaxis,:],2)\n",
        "y1_pred=log_reg.logis(x_11,w1_pred)\n",
        "plt.plot(x_1,y1_pred)"
      ],
      "execution_count": null,
      "outputs": [
        {
          "output_type": "stream",
          "text": [
            "[[-0.60890776]\n",
            " [ 0.76538463]\n",
            " [ 0.83228915]]\n"
          ],
          "name": "stdout"
        },
        {
          "output_type": "execute_result",
          "data": {
            "text/plain": [
              "[<matplotlib.lines.Line2D at 0x7fb968106cc0>]"
            ]
          },
          "metadata": {
            "tags": []
          },
          "execution_count": 87
        },
        {
          "output_type": "display_data",
          "data": {
            "image/png": "[encoded data removed]",
            "text/plain": [
              "<Figure size 432x288 with 1 Axes>"
            ]
          },
          "metadata": {
            "tags": [],
            "needs_background": "light"
          }
        },
        {
          "output_type": "display_data",
          "data": {
            "image/png": "[encoded data removed]",
            "text/plain": [
              "<Figure size 432x288 with 1 Axes>"
            ]
          },
          "metadata": {
            "tags": [],
            "needs_background": "light"
          }
        }
      ]
    },
    {
      "cell_type": "code",
      "metadata": {
        "id": "efpGxlxvn8Bg",
        "outputId": "a0f03d10-ddb3-4ce1-fc1b-d78997bca8cd",
        "colab": {
          "base_uri": "https://localhost:8080/",
          "height": 582
        }
      },
      "source": [
        "# take class 0 as '0' and other to '1'\n",
        "# insert your code here\n",
        "\n",
        "\n",
        "# plt.plot(err)\n",
        "# print(w1_pred)\n",
        "\n",
        "\n",
        "# # ploting\n",
        "# plt.figure()\n",
        "# plt.plot(x,y1_mod,'.')\n",
        "\n",
        "# y1_pred=log_reg.logis(x_aug,w1_pred)\n",
        "# plt.plot(x,y1_pred[:,0])\n",
        "# plot_op(x[:,np.newaxis],y1_pred)\n",
        "\n",
        "y2_mod = y.copy()\n",
        "for temp in range(y.shape[0]):\n",
        "  if y2_mod[temp] == 1:\n",
        "    y2_mod[temp] = 0\n",
        "  else:\n",
        "    y2_mod[temp] = 1\n",
        "\n",
        "\n",
        "log_reg=logis_regression()\n",
        "w2_pred,err=log_reg.Regression_grad_des(x_aug,y2_mod[:,np.newaxis],0.01)\n",
        "\n",
        "\n",
        "plt.plot(err)\n",
        "print(w1_pred)\n",
        "\n",
        "# ploting\n",
        "plt.figure()\n",
        "plt.plot(x,y2_mod,'.')\n",
        "\n",
        "y2_pred=log_reg.logis(x_aug,w2_pred)\n",
        "plt.plot(x,y2_pred[:,0])"
      ],
      "execution_count": null,
      "outputs": [
        {
          "output_type": "stream",
          "text": [
            "[[ 0.51337651]\n",
            " [ 0.2556346 ]\n",
            " [-0.01270536]]\n"
          ],
          "name": "stdout"
        },
        {
          "output_type": "execute_result",
          "data": {
            "text/plain": [
              "[<matplotlib.lines.Line2D at 0x7fb9680b77f0>]"
            ]
          },
          "metadata": {
            "tags": []
          },
          "execution_count": 89
        },
        {
          "output_type": "display_data",
          "data": {
            "image/png": "[encoded data removed]",
            "text/plain": [
              "<Figure size 432x288 with 1 Axes>"
            ]
          },
          "metadata": {
            "tags": [],
            "needs_background": "light"
          }
        },
        {
          "output_type": "display_data",
          "data": {
            "image/png": "[encoded data removed]",
            "text/plain": [
              "<Figure size 432x288 with 1 Axes>"
            ]
          },
          "metadata": {
            "tags": [],
            "needs_background": "light"
          }
        }
      ]
    },
    {
      "cell_type": "code",
      "metadata": {
        "id": "m9bYJ1oZtSMq",
        "outputId": "890446e2-963b-401b-f462-98812df68d1a",
        "colab": {
          "base_uri": "https://localhost:8080/",
          "height": 582
        }
      },
      "source": [
        "# take class 1 as '0' and other to '1'\n",
        "# insert your code here\n",
        "\n",
        "\n",
        "\n",
        "# ploting\n",
        "# plt.figure()\n",
        "# plt.plot(x,y2_mod,'.')\n",
        "\n",
        "# y2_pred=log_reg.logis(x_aug,w2_pred)\n",
        "# plt.plot(x,y2_pred[:,0])\n",
        "# plot_op(x[:,np.newaxis],y2_pred)\n",
        "y1_mod = y.copy()\n",
        "\n",
        "for temp in range(y.shape[0]):\n",
        "  if y1_mod[temp] == 2:\n",
        "    y1_mod[temp] = 0\n",
        "  else:\n",
        "    y1_mod[temp] = 1\n",
        "\n",
        "\n",
        "log_reg=logis_regression()\n",
        "w1_pred,err=log_reg.Regression_grad_des(x_aug,y1_mod[:,np.newaxis],0.01)\n",
        "\n",
        "\n",
        "plt.plot(err)\n",
        "print(w1_pred)\n",
        "\n",
        "\n",
        "# ploting\n",
        "plt.figure()\n",
        "plt.plot(x,y1_mod,'.')\n",
        "\n",
        "y1_pred=log_reg.logis(x_aug,w1_pred)\n",
        "plt.plot(x,y1_pred[:,0])"
      ],
      "execution_count": 8,
      "outputs": [
        {
          "output_type": "stream",
          "text": [
            "[[ 2.33707545]\n",
            " [ 1.68291593]\n",
            " [-0.86297642]]\n"
          ],
          "name": "stdout"
        },
        {
          "output_type": "execute_result",
          "data": {
            "text/plain": [
              "[<matplotlib.lines.Line2D at 0x7f77193a3e10>]"
            ]
          },
          "metadata": {
            "tags": []
          },
          "execution_count": 8
        },
        {
          "output_type": "display_data",
          "data": {
            "image/png": "[encoded data removed]",
            "text/plain": [
              "<Figure size 432x288 with 1 Axes>"
            ]
          },
          "metadata": {
            "tags": [],
            "needs_background": "light"
          }
        },
        {
          "output_type": "display_data",
          "data": {
            "image/png": "[encoded data removed]",
            "text/plain": [
              "<Figure size 432x288 with 1 Axes>"
            ]
          },
          "metadata": {
            "tags": [],
            "needs_background": "light"
          }
        }
      ]
    },
    {
      "cell_type": "code",
      "metadata": {
        "id": "xDXuXBnee2z4",
        "outputId": "abbd38b9-93fd-4172-9558-3d62f117a14d",
        "colab": {
          "base_uri": "https://localhost:8080/",
          "height": 282
        }
      },
      "source": [
        "# final classification\n",
        "\n",
        "# insert your code here  # as '0' is taken as referance\n",
        "# insert your code here\n",
        "\n",
        "plt.figure()\n",
        "plt.plot(x1,np.zeros(x1.shape),'*',color='r')\n",
        "plt.plot(x2,np.ones(x2.shape),'x',color='y')\n",
        "plt.plot(x3,np.tile([2],x3.shape),'.',color='k')"
      ],
      "execution_count": 9,
      "outputs": [
        {
          "output_type": "execute_result",
          "data": {
            "text/plain": [
              "[<matplotlib.lines.Line2D at 0x7f7719277048>]"
            ]
          },
          "metadata": {
            "tags": []
          },
          "execution_count": 9
        },
        {
          "output_type": "display_data",
          "data": {
            "image/png": "[encoded data removed]",
            "text/plain": [
              "<Figure size 432x288 with 1 Axes>"
            ]
          },
          "metadata": {
            "tags": [],
            "needs_background": "light"
          }
        }
      ]
    },
    {
      "cell_type": "code",
      "metadata": {
        "id": "G-PQFKvktnFc",
        "outputId": "509494bf-ee19-43c1-acd1-24371cd6e2b3",
        "colab": {
          "base_uri": "https://localhost:8080/"
        }
      },
      "source": [
        "# take class 2 as '0' and other to '1'\n",
        "# insert your code here\n",
        "# ploting\n",
        "plt.figure()\n",
        "plt.plot(x,y3_mod,'.')\n",
        "\n",
        "\n",
        "y3_pred=log_reg.logis(x_aug,w3_pred)\n",
        "plt.plot(x,y3_pred[:,0])\n",
        "\n",
        "plot_op(x[:,np.newaxis],y3_pred)"
      ],
      "execution_count": null,
      "outputs": [
        {
          "output_type": "stream",
          "text": [
            "[[ 4.02245634]\n",
            " [ 2.66007096]\n",
            " [-1.34592077]]\n"
          ],
          "name": "stdout"
        },
        {
          "output_type": "display_data",
          "data": {
            "image/png": "[encoded data removed]",
            "text/plain": [
              "<Figure size 432x288 with 1 Axes>"
            ]
          },
          "metadata": {
            "tags": [],
            "needs_background": "light"
          }
        },
        {
          "output_type": "display_data",
          "data": {
            "image/png": "[encoded data removed]",
            "text/plain": [
              "<Figure size 432x288 with 1 Axes>"
            ]
          },
          "metadata": {
            "tags": [],
            "needs_background": "light"
          }
        }
      ]
    },
    {
      "cell_type": "code",
      "metadata": {
        "id": "_x6NWsEkxbjH",
        "outputId": "abdb4bca-b141-41fc-a33f-2288a5c57b55",
        "colab": {
          "base_uri": "https://localhost:8080/"
        }
      },
      "source": [
        "# final classification\n",
        "\n",
        "# insert your code here  # as '0' is taken as referance\n",
        "# insert your code here\n",
        "\n",
        "plt.figure()\n",
        "plt.plot(x1,np.zeros(x1.shape),'*',color='r')\n",
        "plt.plot(x2,np.ones(x2.shape),'x',color='y')\n",
        "plt.plot(x3,np.tile([2],x3.shape),'.',color='k')\n"
      ],
      "execution_count": null,
      "outputs": [
        {
          "output_type": "execute_result",
          "data": {
            "text/plain": [
              "[<matplotlib.lines.Line2D at 0x7fbb16168cc0>]"
            ]
          },
          "metadata": {
            "tags": []
          },
          "execution_count": 55
        },
        {
          "output_type": "display_data",
          "data": {
            "image/png": "[encoded data removed]",
            "text/plain": [
              "<Figure size 432x288 with 1 Axes>"
            ]
          },
          "metadata": {
            "tags": [],
            "needs_background": "light"
          }
        }
      ]
    },
    {
      "cell_type": "markdown",
      "metadata": {
        "id": "Hozg7Cy_71ue"
      },
      "source": [
        "# Support vector machine\n",
        "\n",
        "1. Try to maximize the margin of separation between data.\n",
        "2. Instead of learning wx+b=0  separating hyperplane directly (like logistic regression), SVM try to learn wx+b=0, such that, the margin between two hyperplanes wx+b=1 and wx+b=-1 (also known as support vectors) is maximum. \n",
        "3. Margin between wx+b=1 and wx+b=-1 hyperplane is $\\frac{2}{||w||}$\n",
        "4. we have a constraint optimization problem of maximizing $\\frac{2}{||w||}$, with constraints wx+b>=1 (for +ve class) and wx+b<=-1 (for -ve class).\n",
        "5. As $y_{i}=1$ for +ve class and $y_{i}=-1$ for -ve class, the constraint can be re-written as:\n",
        "$$y(wx+b)>=1$$\n",
        "\n",
        "6. Final optimization is (i.e to find w and b):\n",
        "$$\\min_{||w||}\\frac{1}{2}||w||,$$\n",
        "$$y(wx+b) \\geq 1,~\\forall ~data $$\n",
        "\n",
        "\n",
        "\n",
        "\n",
        "\n",
        "\n",
        "\n",
        "\n",
        "\n",
        "\n",
        "\n",
        "\n",
        "Acknowledgement:\n",
        "\n",
        "https://pythonprogramming.net/predictions-svm-machine-learning-tutorial/\n",
        "\n",
        "https://medium.com/deep-math-machine-learning-ai/chapter-3-1-svm-from-scratch-in-python-86f93f853dc"
      ]
    },
    {
      "cell_type": "code",
      "metadata": {
        "id": "VZCCspO28ACg"
      },
      "source": [
        "import numpy as np\n",
        "import matplotlib.pyplot as plt\n",
        "import math"
      ],
      "execution_count": 10,
      "outputs": []
    },
    {
      "cell_type": "markdown",
      "metadata": {
        "id": "dOe8btABKSBO"
      },
      "source": [
        "## Data generation:\n",
        "1. Generate 2D gaussian data with fixed mean and variance for 2 class.(var=Identity, class1: mean[-4,-4], class2: mean[1,1], No. of data 25 from each class)\n",
        "2. create the label matrix\n",
        "3. Plot the generated data"
      ]
    },
    {
      "cell_type": "code",
      "metadata": {
        "id": "ZMQCjODoKQBe",
        "outputId": "41914dd5-b5e5-479e-d371-f915da0c2f54",
        "colab": {
          "base_uri": "https://localhost:8080/",
          "height": 320
        }
      },
      "source": [
        "No_sample=50\n",
        "mean1=np.array([-3,-3])\n",
        "var1=np.array([[1,0],[0,1]])\n",
        "mean2=np.array([1,1])\n",
        "var2=var1\n",
        "data1=np.random.multivariate_normal(mean1,var1,int(No_sample/2))\n",
        "data2=np.random.multivariate_normal(mean2,var2,int(No_sample/2))\n",
        "X=np.concatenate((data1,data2))\n",
        "print(X.shape)\n",
        "y=np.concatenate((-1*np.ones(data1.shape[0]),np.ones(data2.shape[0])))\n",
        "print(y.shape)\n",
        "\n",
        "plt.figure()\n",
        "plt.scatter(X[:,0],X[:,1],marker='o',c=y)"
      ],
      "execution_count": 22,
      "outputs": [
        {
          "output_type": "stream",
          "text": [
            "(50, 2)\n",
            "(50,)\n"
          ],
          "name": "stdout"
        },
        {
          "output_type": "execute_result",
          "data": {
            "text/plain": [
              "<matplotlib.collections.PathCollection at 0x7f7719083cc0>"
            ]
          },
          "metadata": {
            "tags": []
          },
          "execution_count": 22
        },
        {
          "output_type": "display_data",
          "data": {
            "image/png": "[encoded data removed]",
            "text/plain": [
              "<Figure size 432x288 with 1 Axes>"
            ]
          },
          "metadata": {
            "tags": [],
            "needs_background": "light"
          }
        }
      ]
    },
    {
      "cell_type": "markdown",
      "metadata": {
        "id": "1ecaYv7ZL0D_"
      },
      "source": [
        "Create a data dictionary, which contains both label and data points."
      ]
    },
    {
      "cell_type": "code",
      "metadata": {
        "id": "tv2YixzZcphV"
      },
      "source": [
        "postiveX=[]\n",
        "negativeX=[]\n",
        "for i,v in enumerate(y):\n",
        "    if v==-1:\n",
        "        negativeX.append(X[i])\n",
        "    else:\n",
        "        postiveX.append(X[i])\n",
        "\n",
        "#our data dictionary\n",
        "data_dict = {-1:np.array(negativeX), 1:np.array(postiveX)} "
      ],
      "execution_count": 23,
      "outputs": []
    },
    {
      "cell_type": "markdown",
      "metadata": {
        "id": "p8Zk66RiWuS5"
      },
      "source": [
        "## SVM training\n",
        "1. create a search space for w (i.e w1=w2),[0, 0.5*max((abs(feat)))] and  for b, [-max((abs(feat))),max((abs(feat)))], with appropriate step.\n",
        "2. we will start with a higher step and find optimal w and b, then we will reduce the step and again re-evaluate the optimal one.\n",
        "\n",
        "3. In each step, we will take transform of w, [1,1], [-1,1],[1,-1] and [-1,-1] to search arround the w. \n",
        "\n",
        "4. In every pass (for a fixed step size) we will store all the w, b and its corresponding ||w||, which make the data correctly classified as per the condition $y(wx+b) \\geq 1$. \n",
        "\n",
        "5. Obtain the optimal hyperplane having minimum ||w||.\n",
        "\n",
        "6. Start with the optimal w and repeat the same (step 3,4 and 5) for a reduced step size.\n"
      ]
    },
    {
      "cell_type": "code",
      "metadata": {
        "id": "AafDodH6c6BX"
      },
      "source": [
        "# it is just a searching algorithem, not a complicated optimization algorithem, (just for understanding of concepts through visualization)\n",
        "\n",
        "# def SVM_Training(data_dict):\n",
        "\n",
        "#     # insert your code here\n",
        "    \n",
        "#     return w,b\n",
        "\n",
        "# it is just a searching algorithem, not a complicated optimization algorithem, (just for understanding of concepts through visualization)\n",
        "\n",
        "def SVM_Training(data_dict):\n",
        "    i=1\n",
        "    global w\n",
        "    global b\n",
        "    # { ||w||: [w,b] }\n",
        "    length_Wvector = {}\n",
        "    transforms = [[1,1],[-1,1],[-1,-1],[1,-1]]\n",
        "    \n",
        "    b_step_size = 2\n",
        "    b_multiple = 5\n",
        "    w_optimum = max_feature_value*0.5\n",
        "\n",
        "    for lrate in learning_rate:\n",
        "        \n",
        "        w = np.array([w_optimum,w_optimum])     \n",
        "        optimized = False\n",
        "        while not optimized:\n",
        "            #b=[-maxvalue to maxvalue] we wanna maximize the b values so check for every b value\n",
        "            for b in np.arange(-1*(max_feature_value*b_step_size), max_feature_value*b_step_size, lrate*b_multiple):\n",
        "                for transformation in transforms:  # transforms = [[1,1],[-1,1],[-1,-1],[1,-1]]\n",
        "                    w_t = w*transformation\n",
        "                    \n",
        "                    correctly_classified = True\n",
        "                    \n",
        "                    # every data point should be correct\n",
        "                    for yi in data_dict:\n",
        "                        for xi in data_dict[yi]:\n",
        "                            if yi*(np.dot(w_t,xi)+b) < 1:  # we want  yi*(np.dot(w_t,xi)+b) >= 1 for correct classification\n",
        "                                correctly_classified = False\n",
        "                                \n",
        "                    if correctly_classified:\n",
        "                        length_Wvector[np.linalg.norm(w_t)] = [w_t,b] #store w, b for minimum magnitude\n",
        "            \n",
        "            if w[0] < 0:\n",
        "                optimized = True\n",
        "            else:\n",
        "                w = w - lrate\n",
        "\n",
        "        norms = sorted([n for n in length_Wvector])\n",
        "        \n",
        "        minimum_wlength = length_Wvector[norms[0]]\n",
        "        w = minimum_wlength[0]\n",
        "        b = minimum_wlength[1]\n",
        "        \n",
        "        w_optimum = w[0]+lrate*2\n",
        "\n"
      ],
      "execution_count": 24,
      "outputs": []
    },
    {
      "cell_type": "markdown",
      "metadata": {
        "id": "JvFsoKXxe6IX"
      },
      "source": [
        "**Training**"
      ]
    },
    {
      "cell_type": "code",
      "metadata": {
        "id": "CShR8NSac8BO",
        "outputId": "bb817496-d948-4fbc-f332-3107b956d75d",
        "colab": {
          "base_uri": "https://localhost:8080/"
        }
      },
      "source": [
        "\n",
        "#all the required variables \n",
        "w=[] #weights 2 dimensional vector\n",
        "b=[] #bias\n",
        "max_feature_value=float('-inf')\n",
        "min_feature_value=float('+inf')\n",
        "# w,b=SVM_Training(data_dict)\n",
        "for yi in data_dict:\n",
        "    if np.amax(data_dict[yi])>max_feature_value:\n",
        "        max_feature_value=np.amax(data_dict[yi])\n",
        "                \n",
        "    if np.amin(data_dict[yi])<min_feature_value:\n",
        "        min_feature_value=np.amin(data_dict[yi])\n",
        "        \n",
        "learning_rate = [max_feature_value * 0.1, max_feature_value * 0.01, max_feature_value * 0.001,]\n",
        "\n",
        "SVM_Training(data_dict)\n",
        "print(w)\n",
        "print(b)\n",
        "# print(w)\n",
        "# print(b)"
      ],
      "execution_count": 25,
      "outputs": [
        {
          "output_type": "stream",
          "text": [
            "[0.6109059 0.6109059]\n",
            "0.884205906220016\n"
          ],
          "name": "stdout"
        }
      ]
    },
    {
      "cell_type": "markdown",
      "metadata": {
        "id": "d8jDgEH5fAKt"
      },
      "source": [
        "## Visualization of the SVM separating hyperplanes (after training)"
      ]
    },
    {
      "cell_type": "code",
      "metadata": {
        "id": "YYcTUEFZdKLd"
      },
      "source": [
        "def visualize(data_dict):\n",
        "       \n",
        "        \n",
        "        \n",
        "        \n",
        "        plt.scatter(X[:,0],X[:,1],marker='o',c=y)\n",
        "\n",
        "        # hyperplane = x.w+b\n",
        "        # v = x.w+b\n",
        "        # psv = 1\n",
        "        # nsv = -1\n",
        "        # dec = 0\n",
        "        def hyperplane_value(x,w,b,v):\n",
        "            return (-w[0]*x-b+v) / w[1]\n",
        "\n",
        "        \n",
        "        hyp_x_min = np.min([np.min(data_dict[1]),np.min(data_dict[-1])])\n",
        "        hyp_x_max = np.max([np.max(data_dict[1]),np.max(data_dict[-1])])\n",
        "\n",
        "        # (w.x+b) = 1\n",
        "        # positive support vector hyperplane\n",
        "        psv1 = hyperplane_value(hyp_x_min, w, b, 1)\n",
        "        psv2 = hyperplane_value(hyp_x_max, w, b, 1)\n",
        "        plt.plot([hyp_x_min,hyp_x_max],[psv1,psv2], 'k')\n",
        "\n",
        "        # (w.x+b) = -1\n",
        "        # negative support vector hyperplane\n",
        "        nsv1 = hyperplane_value(hyp_x_min, w, b, -1)\n",
        "        nsv2 = hyperplane_value(hyp_x_max, w, b, -1)\n",
        "        plt.plot([hyp_x_min,hyp_x_max],[nsv1,nsv2], 'k')\n",
        "\n",
        "        # (w.x+b) = 0\n",
        "        # positive support vector hyperplane\n",
        "        db1 = hyperplane_value(hyp_x_min, w, b, 0)\n",
        "        db2 = hyperplane_value(hyp_x_max, w, b, 0)\n",
        "        plt.plot([hyp_x_min,hyp_x_max],[db1,db2], 'y--')\n",
        "        \n",
        "        \n",
        "        "
      ],
      "execution_count": 26,
      "outputs": []
    },
    {
      "cell_type": "code",
      "metadata": {
        "id": "GamcosyndOjq",
        "outputId": "9c67a361-b9c7-4cfd-f71c-f555ff3ff768",
        "colab": {
          "base_uri": "https://localhost:8080/",
          "height": 265
        }
      },
      "source": [
        "fig = plt.figure()\n",
        "visualize(data_dict)"
      ],
      "execution_count": 27,
      "outputs": [
        {
          "output_type": "display_data",
          "data": {
            "image/png": "[encoded data removed]",
            "text/plain": [
              "<Figure size 432x288 with 1 Axes>"
            ]
          },
          "metadata": {
            "tags": [],
            "needs_background": "light"
          }
        }
      ]
    },
    {
      "cell_type": "markdown",
      "metadata": {
        "id": "f-xxiXTufMsR"
      },
      "source": [
        "## Testing\n",
        "\n",
        "1. Generate test data as like training\n",
        "2. See the classification\n",
        "\n",
        "3. if $wx_{test}+b > 0$, $y_{test}=1$ else $y_{test}=-1$\n"
      ]
    },
    {
      "cell_type": "code",
      "metadata": {
        "id": "YLPt6JRHdJUI"
      },
      "source": [
        "def predict(data,w,b):\n",
        "  y_pred=np.sign(np.dot(data,w)+b)\n",
        "  return y_pred"
      ],
      "execution_count": 18,
      "outputs": []
    },
    {
      "cell_type": "code",
      "metadata": {
        "id": "_qDbv7CDfL47",
        "outputId": "db10cbcf-f579-462a-cb96-78bc420ddeae",
        "colab": {
          "base_uri": "https://localhost:8080/",
          "height": 300
        }
      },
      "source": [
        "No_test_sample=40\n",
        "data1=np.random.multivariate_normal(mean1,var1,int(No_test_sample/2))\n",
        "data2=np.random.multivariate_normal(mean2,var2,int(No_test_sample/2))\n",
        "test_data=np.concatenate((data1,data2))\n",
        "y_gr=np.concatenate((-1*np.ones(data1.shape[0]),np.ones(data2.shape[0])))\n",
        "\n",
        "# evaluate with the trained model\n",
        "\n",
        "y_pred=predict(test_data,w,b)\n",
        "accuracy=(1 - (sum((y_gr-y_pred)**2)/No_test_sample))*100.0\n",
        "print('test accuracy=',accuracy)\n",
        "\n",
        "#  Visualization\n",
        "plt.figure()\n",
        "visualize(data_dict)\n",
        "plt.scatter(test_data[:,0],test_data[:,1],marker='x',c=y_gr)\n",
        "\n",
        "\n"
      ],
      "execution_count": 29,
      "outputs": [
        {
          "output_type": "stream",
          "text": [
            "test accuracy= 100.0\n"
          ],
          "name": "stdout"
        },
        {
          "output_type": "execute_result",
          "data": {
            "text/plain": [
              "<matplotlib.collections.PathCollection at 0x7f7718f1a438>"
            ]
          },
          "metadata": {
            "tags": []
          },
          "execution_count": 29
        },
        {
          "output_type": "display_data",
          "data": {
            "image/png": "[encoded data removed]",
            "text/plain": [
              "<Figure size 432x288 with 1 Axes>"
            ]
          },
          "metadata": {
            "tags": [],
            "needs_background": "light"
          }
        }
      ]
    },
    {
      "cell_type": "code",
      "metadata": {
        "id": "rUzV4rIlf3kt"
      },
      "source": [
        ""
      ],
      "execution_count": null,
      "outputs": []
    }
  ]
}